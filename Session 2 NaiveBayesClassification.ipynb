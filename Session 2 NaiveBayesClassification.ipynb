{
 "cells": [
  {
   "cell_type": "markdown",
   "metadata": {},
   "source": [
    "# Naive Bayes Classification"
   ]
  },
  {
   "cell_type": "markdown",
   "metadata": {},
   "source": [
    "Intuitively, some classification problems seem succeptible to a strategy based on the likelihood of our sample being in a given class based on probability of the presense of the features. \n",
    "\n",
    "In terms of probabilities, we want to calculate $p(class | features)$ for each possible class and then choose the class with the max probability.\n",
    "\n",
    "In order to estimate the probabilities we need to calculate $p(class | features)$, we can use a the technique of labeling some data, then calculating the probabilites."
   ]
  },
  {
   "cell_type": "markdown",
   "metadata": {},
   "source": [
    "# Bayes Theorem\n",
    "How to proceed? Given a labeled training set, it is straight forward to calculate $p(features|class)$. \n",
    "\n",
    "Flipping this over to get what we want looks like a job for Bayes' Theorem:\n",
    "\n",
    "$$p(x)p(y|x) = p(y)p(x|y)$$\n",
    "\n",
    "Use your algebra:\n",
    "\n",
    "$$p(features)p(class|features) = p(class)p(features|class)$$\n",
    "\n",
    "$$p(class|features) = \\frac{p(class)p(features|class)}{p(features)}$$"
   ]
  },
  {
   "cell_type": "markdown",
   "metadata": {},
   "source": [
    "# Chain Rule\n",
    "This seems pretty managable, but there is one tiny hitch. There are potentially many dimensions to each feature vector, ${f_0, f_1, \\ldots ,f_n}$. This means we have,\n",
    "\n",
    "$$p(features|class) = p({f_0, f_1, \\ldots ,f_n}|c)$$\n",
    "\n",
    "Think about only 2 dimentions for a moment. If the features relate to the class independently of each other, we can rewrite:\n",
    "\n",
    "$$p({f_0, f_1}|c) = p(f_1|c, f_0)p(f_0|c)$$\n",
    "\n",
    "But since the probablility of $f_1$ is independent of $f_0$, we can repeat this operation through the fulll set of features to collapse to,\n",
    "\n",
    "$$p({f_0, f_1}|c) = p(f_1|c)p(f_0|c)$$\n",
    "\n",
    "So in general we can write:\n",
    "\n",
    "$$p({f_0, f_1, \\ldots, f_n}|c) = \\Pi^n_i p(f_i|c)$$"
   ]
  },
  {
   "cell_type": "markdown",
   "metadata": {},
   "source": [
    "# Naive Bayes Classification\n",
    "Start with a representative labeled training set. Calculate $p(c_i)$ for each class. Calculate $p(f_j|c_i)$ for all feature dimensions. Classify new samples by finding the most likely class given the features:\n",
    "\n",
    "$$p(class_i|{f_0, f_1, \\ldots, f_n})= \\frac{p(class_i)}{p({f_0, f_1, \\ldots, f_n})} \\Pi^n_j p(f_j|c_i)$$"
   ]
  },
  {
   "cell_type": "markdown",
   "metadata": {},
   "source": [
    "# Problem 1: Classify even/odd binary numbers by the number of 0s and 1s.\n",
    "* How many dimensions in the feature vector?\n",
    "* Why might this work? \n",
    "* Why shouldn't it work?\n",
    "* How well do you think this will work?"
   ]
  },
  {
   "cell_type": "code",
   "execution_count": 95,
   "metadata": {},
   "outputs": [
    {
     "name": "stdout",
     "output_type": "stream",
     "text": [
      "0b1\n"
     ]
    }
   ],
   "source": [
    "print(bin(1))"
   ]
  },
  {
   "cell_type": "code",
   "execution_count": 128,
   "metadata": {},
   "outputs": [
    {
     "name": "stdout",
     "output_type": "stream",
     "text": [
      "this is a string\n"
     ]
    }
   ],
   "source": [
    "example=\"this is a string\"\n",
    "print(example)"
   ]
  },
  {
   "cell_type": "code",
   "execution_count": 97,
   "metadata": {},
   "outputs": [
    {
     "name": "stdout",
     "output_type": "stream",
     "text": [
      "this_is_a_string\n"
     ]
    }
   ],
   "source": [
    "spacereplaced=example.replace(\" \",\"_\")\n",
    "print(spacereplaced)"
   ]
  },
  {
   "cell_type": "code",
   "execution_count": 129,
   "metadata": {},
   "outputs": [
    {
     "name": "stdout",
     "output_type": "stream",
     "text": [
      " is a \n"
     ]
    }
   ],
   "source": [
    "test=\"a a a b\"\n",
    "print(example.strip('thstring'))"
   ]
  },
  {
   "cell_type": "code",
   "execution_count": 130,
   "metadata": {},
   "outputs": [
    {
     "name": "stdout",
     "output_type": "stream",
     "text": [
      "Current:  1  Value:  00001  Label:  odd\n",
      "Current:  2  Value:  00010  Label:  even\n",
      "Current:  3  Value:  00011  Label:  odd\n",
      "Current:  4  Value:  00100  Label:  even\n",
      "Current:  5  Value:  00101  Label:  odd\n",
      "Current:  6  Value:  00110  Label:  even\n",
      "Current:  7  Value:  00111  Label:  odd\n",
      "Current:  8  Value:  01000  Label:  even\n",
      "Current:  9  Value:  01001  Label:  odd\n",
      "Current:  10  Value:  01010  Label:  even\n",
      "Current:  11  Value:  01011  Label:  odd\n",
      "Current:  12  Value:  01100  Label:  even\n",
      "Current:  13  Value:  01101  Label:  odd\n",
      "Current:  14  Value:  01110  Label:  even\n",
      "Current:  15  Value:  01111  Label:  odd\n",
      "Current:  16  Value:  10000  Label:  even\n",
      "Current:  17  Value:  10001  Label:  odd\n",
      "Current:  18  Value:  10010  Label:  even\n",
      "Current:  19  Value:  10011  Label:  odd\n",
      "Current:  20  Value:  10100  Label:  even\n",
      "Current:  21  Value:  10101  Label:  odd\n",
      "Current:  22  Value:  10110  Label:  even\n",
      "Current:  23  Value:  10111  Label:  odd\n",
      "Current:  24  Value:  11000  Label:  even\n",
      "Current:  25  Value:  11001  Label:  odd\n",
      "Current:  26  Value:  11010  Label:  even\n",
      "Current:  27  Value:  11011  Label:  odd\n",
      "Current:  28  Value:  11100  Label:  even\n",
      "Current:  29  Value:  11101  Label:  odd\n",
      "Current:  30  Value:  11110  Label:  even\n",
      "Current:  31  Value:  11111  Label:  odd\n",
      "Current:  32  Value:  100000  Label:  even\n"
     ]
    }
   ],
   "source": [
    "truth = [\"odd\", \"even\"]  # uses some human readiable text to make reading results easier\n",
    "training_data = []\n",
    "for x in range(1,33):\n",
    "    number = \"{:05d}\".format(int((bin(x)).replace(\"0b\",\"\")))\n",
    "    label = truth[x%2 == 0]\n",
    "    training_data.append((number,label))\n",
    "    \n",
    "    \n",
    "for counter, value in enumerate(training_data):\n",
    "    print(\"Current: \",counter+1,\" Value: \",value[0], \" Label: \",value[1])"
   ]
  },
  {
   "cell_type": "code",
   "execution_count": 100,
   "metadata": {},
   "outputs": [
    {
     "name": "stdout",
     "output_type": "stream",
     "text": [
      "p(even) =  0.5 p(odd) =  0.5\n"
     ]
    }
   ],
   "source": [
    "n_even = 0\n",
    "n_odd = 0\n",
    "\n",
    "for x in training_data:\n",
    "    if(x[1]==\"even\"):\n",
    "        n_even+=1\n",
    "    else:\n",
    "        n_odd+=1\n",
    "p_even = float(n_even)/len(training_data)\n",
    "p_odd = float(n_odd)/len(training_data)\n",
    "print (\"p(even) = \", p_even,  \"p(odd) = \", p_odd)    \n"
   ]
  },
  {
   "cell_type": "code",
   "execution_count": 101,
   "metadata": {},
   "outputs": [
    {
     "name": "stdout",
     "output_type": "stream",
     "text": [
      "p(even) =  0.5 p(odd) =  0.5\n"
     ]
    }
   ],
   "source": [
    "n_even = len([x[0] for x in training_data if x[1] == \"even\"])\n",
    "n_odd = len([x[0] for x in training_data if x[1] == \"odd\"])\n",
    "p_even = float(n_even)/len(training_data)\n",
    "p_odd = float(n_odd)/len(training_data)\n",
    "print (\"p(even) = \", p_even,  \"p(odd) = \", p_odd)"
   ]
  },
  {
   "cell_type": "code",
   "execution_count": 132,
   "metadata": {},
   "outputs": [
    {
     "name": "stdout",
     "output_type": "stream",
     "text": [
      "2\n"
     ]
    }
   ],
   "source": [
    "test=\"this is a string\"\n",
    "print(test.count('is'))"
   ]
  },
  {
   "cell_type": "code",
   "execution_count": 102,
   "metadata": {},
   "outputs": [
    {
     "name": "stdout",
     "output_type": "stream",
     "text": [
      "Total Characters:  161  P(0):  0.4968944099378882  P(1) 0.5031055900621118\n"
     ]
    }
   ],
   "source": [
    "n_zeros = 0\n",
    "n_ones = 0\n",
    "\n",
    "for x in training_data:\n",
    "    n_zeros += x[0].count(\"0\")\n",
    "    n_ones += x[0].count(\"1\")\n",
    "    \n",
    "total_characters = n_zeros + n_ones\n",
    "p_zero = float(n_zeros)/total_characters\n",
    "p_one = float(n_ones)/total_characters\n",
    "\n",
    "print(\"Total Characters: \",total_characters, \" P(0): \",p_zero, \" P(1)\",p_one)"
   ]
  },
  {
   "cell_type": "code",
   "execution_count": 103,
   "metadata": {},
   "outputs": [
    {
     "name": "stdout",
     "output_type": "stream",
     "text": [
      "Total Characters:  161  P(0):  0.4968944099378882  P(1) 0.5031055900621118\n"
     ]
    }
   ],
   "source": [
    "n_zeros = sum([x[0].count(\"0\") for x in training_data])\n",
    "n_ones = sum([x[0].count(\"1\") for x in training_data])\n",
    "total_characters = n_zeros + n_ones\n",
    "p_zero = float(n_zeros)/total_characters\n",
    "p_one = float(n_ones)/total_characters\n",
    "print(\"Total Characters: \",total_characters, \" P(0): \",p_zero, \" P(1)\",p_one)"
   ]
  },
  {
   "cell_type": "code",
   "execution_count": 133,
   "metadata": {},
   "outputs": [
    {
     "name": "stdout",
     "output_type": "stream",
     "text": [
      "p(0|even) = 0.5925925925925926   P(1|even) = 0.4074074074074074 \n"
     ]
    }
   ],
   "source": [
    "n_zeros_even = 0\n",
    "n_ones_even = 0\n",
    "for x in training_data:\n",
    "    if x[1] == \"even\":\n",
    "        n_zeros_even += x[0].count(\"0\")   \n",
    "        n_ones_even += x[0].count(\"1\")\n",
    "        \n",
    "p_zero_given_even = float(n_zeros_even)/(n_zeros_even + n_ones_even)\n",
    "p_one_given_even = float(n_ones_even)/(n_zeros_even + n_ones_even)\n",
    "\n",
    "print (\"p(0|even) = {}   P(1|even) = {} \".format(p_zero_given_even,p_one_given_even))"
   ]
  },
  {
   "cell_type": "code",
   "execution_count": 134,
   "metadata": {},
   "outputs": [
    {
     "name": "stdout",
     "output_type": "stream",
     "text": [
      "p(0|even) = 0.5925925925925926   P(1|even) = 0.4074074074074074 \n"
     ]
    }
   ],
   "source": [
    "n_zeros_even = sum([x[0].count(\"0\") for x in training_data if x[1] == \"even\"])\n",
    "n_ones_even = sum([x[0].count(\"1\") for x in training_data if x[1] == \"even\"])\n",
    "p_zero_given_even = float(n_zeros_even)/(n_zeros_even + n_ones_even)\n",
    "p_one_given_even = float(n_ones_even)/(n_zeros_even + n_ones_even)\n",
    "\n",
    "print (\"p(0|even) = {}   P(1|even) = {} \".format(p_zero_given_even,p_one_given_even))"
   ]
  },
  {
   "cell_type": "code",
   "execution_count": 135,
   "metadata": {},
   "outputs": [
    {
     "name": "stdout",
     "output_type": "stream",
     "text": [
      "p(0|odd) = 0.4   P(1|odd) = 0.6 \n"
     ]
    }
   ],
   "source": [
    "n_zeros_odd = 0\n",
    "n_ones_odd = 0\n",
    "for x in training_data:\n",
    "    if x[1] == \"odd\":\n",
    "        n_zeros_odd += x[0].count(\"0\")   \n",
    "        n_ones_odd += x[0].count(\"1\")\n",
    "        \n",
    "p_zero_given_odd = float(n_zeros_odd)/(n_zeros_odd + n_ones_odd)\n",
    "p_one_given_odd = 1.0 - p_zero_given_odd\n",
    "print (\"p(0|odd) = {}   P(1|odd) = {} \".format(p_zero_given_odd,p_one_given_odd))"
   ]
  },
  {
   "cell_type": "code",
   "execution_count": 107,
   "metadata": {},
   "outputs": [
    {
     "name": "stdout",
     "output_type": "stream",
     "text": [
      "p(0|odd) = 0.4   P(1|odd) = 0.6 \n"
     ]
    }
   ],
   "source": [
    "n_zeros_odd = sum([x[0].count(\"0\") for x in training_data if x[1] == \"odd\"])\n",
    "n_ones_odd = sum([x[0].count(\"1\") for x in training_data if x[1] == \"odd\"])\n",
    "p_zero_given_odd = float(n_zeros_odd)/(n_zeros_odd + n_ones_odd)\n",
    "p_one_given_odd = 1.0 - p_zero_given_odd\n",
    "\n",
    "print (\"p(0|odd) = {}   P(1|odd) = {} \".format(p_zero_given_odd,p_one_given_odd))"
   ]
  },
  {
   "cell_type": "markdown",
   "metadata": {},
   "source": [
    "# Simplification  \n",
    "\n",
    "$p({f_0, f_1, \\ldots, f_n}) = const.$ for all calcuations, so we can omit it from the classification calculation."
   ]
  },
  {
   "cell_type": "code",
   "execution_count": 108,
   "metadata": {
    "collapsed": true
   },
   "outputs": [],
   "source": [
    "def p_odd_given(sample):\n",
    "    n_zeros = sample.count(\"0\")\n",
    "    n_ones = sample.count(\"1\")\n",
    "    return p_odd * (p_zero_given_odd**n_zeros) * (p_one_given_odd**n_ones)\n",
    "  \n",
    "def p_even_given(sample):\n",
    "    n_zeros = sample.count(\"0\")\n",
    "    n_ones = sample.count(\"1\")\n",
    "    return p_even * (p_zero_given_even**n_zeros) * (p_one_given_even**n_ones)"
   ]
  },
  {
   "cell_type": "code",
   "execution_count": 136,
   "metadata": {},
   "outputs": [
    {
     "name": "stdout",
     "output_type": "stream",
     "text": [
      "Sample:  00001 -->  P(odd): 0.008 P(even): 0.025  GT:  odd \n",
      "Sample:  00010 -->  P(odd): 0.008 P(even): 0.025  GT:  even *\n",
      "Sample:  00011 -->  P(odd): 0.012 P(even): 0.017  GT:  odd \n",
      "Sample:  00100 -->  P(odd): 0.008 P(even): 0.025  GT:  even *\n",
      "Sample:  00101 -->  P(odd): 0.012 P(even): 0.017  GT:  odd \n",
      "Sample:  00110 -->  P(odd): 0.012 P(even): 0.017  GT:  even *\n",
      "Sample:  00111 -->  P(odd): 0.017 P(even): 0.012  GT:  odd *\n",
      "Sample:  01000 -->  P(odd): 0.008 P(even): 0.025  GT:  even *\n",
      "Sample:  01001 -->  P(odd): 0.012 P(even): 0.017  GT:  odd \n",
      "Sample:  01010 -->  P(odd): 0.012 P(even): 0.017  GT:  even *\n",
      "Sample:  01011 -->  P(odd): 0.017 P(even): 0.012  GT:  odd *\n",
      "Sample:  01100 -->  P(odd): 0.012 P(even): 0.017  GT:  even *\n",
      "Sample:  01101 -->  P(odd): 0.017 P(even): 0.012  GT:  odd *\n",
      "Sample:  01110 -->  P(odd): 0.017 P(even): 0.012  GT:  even \n",
      "Sample:  01111 -->  P(odd): 0.026 P(even): 0.008  GT:  odd *\n",
      "Sample:  10000 -->  P(odd): 0.008 P(even): 0.025  GT:  even *\n",
      "Sample:  10001 -->  P(odd): 0.012 P(even): 0.017  GT:  odd \n",
      "Sample:  10010 -->  P(odd): 0.012 P(even): 0.017  GT:  even *\n",
      "Sample:  10011 -->  P(odd): 0.017 P(even): 0.012  GT:  odd *\n",
      "Sample:  10100 -->  P(odd): 0.012 P(even): 0.017  GT:  even *\n",
      "Sample:  10101 -->  P(odd): 0.017 P(even): 0.012  GT:  odd *\n",
      "Sample:  10110 -->  P(odd): 0.017 P(even): 0.012  GT:  even \n",
      "Sample:  10111 -->  P(odd): 0.026 P(even): 0.008  GT:  odd *\n",
      "Sample:  11000 -->  P(odd): 0.012 P(even): 0.017  GT:  even *\n",
      "Sample:  11001 -->  P(odd): 0.017 P(even): 0.012  GT:  odd *\n",
      "Sample:  11010 -->  P(odd): 0.017 P(even): 0.012  GT:  even \n",
      "Sample:  11011 -->  P(odd): 0.026 P(even): 0.008  GT:  odd *\n",
      "Sample:  11100 -->  P(odd): 0.017 P(even): 0.012  GT:  even \n",
      "Sample:  11101 -->  P(odd): 0.026 P(even): 0.008  GT:  odd *\n",
      "Sample:  11110 -->  P(odd): 0.026 P(even): 0.008  GT:  even \n",
      "Sample:  11111 -->  P(odd): 0.039 P(even): 0.006  GT:  odd *\n",
      "Sample:  100000 -->  P(odd): 0.003 P(even): 0.015  GT:  even *\n"
     ]
    }
   ],
   "source": [
    "correct = 0\n",
    "for sample, gt in training_data:\n",
    "    star = \"\"\n",
    "    if truth[int(p_odd_given(sample) < p_even_given(sample))] == gt:\n",
    "        correct += 1\n",
    "        star = \"*\"\n",
    "\n",
    "    print(\"Sample: \",sample,\"-->\",\" P(odd): %.3f\"%p_odd_given(sample), \"P(even): %.3f\"%p_even_given(sample),\n",
    "         \" GT: \",gt,star)"
   ]
  },
  {
   "cell_type": "code",
   "execution_count": 110,
   "metadata": {},
   "outputs": [
    {
     "name": "stdout",
     "output_type": "stream",
     "text": [
      "============================================================\n",
      "Baseline (guess all \"odd\")\n",
      "Total Samples:  32  Total Correct:  16 Accuracy: 50.0 %\n",
      "============================================================\n",
      "Naive Bayes Classifier\n",
      "Total Samples:  32  Total Correct:  22 Accuracy: 68.8 %\n",
      "============================================================\n"
     ]
    }
   ],
   "source": [
    "print (\"=\"*60)\n",
    "baseline_correct1 = 0\n",
    "\n",
    "for x in training_data:\n",
    "    if x[1] == \"odd\":\n",
    "        baseline_correct1+=1\n",
    "\n",
    "print (\"Baseline (guess all \\\"odd\\\")\")\n",
    "print(\"Total Samples: \",len(training_data),\" Total Correct: \",baseline_correct1, \"Accuracy: %.1f\"%\n",
    "     (float(baseline_correct1/len(training_data))*100),\"%\")\n",
    "print (\"=\"*60)\n",
    "print (\"Naive Bayes Classifier\")\n",
    "print(\"Total Samples: \",len(training_data),\" Total Correct: \",correct, \"Accuracy: %.1f\"%\n",
    "     (float(correct/len(training_data))*100),\"%\")\n",
    "print (\"=\"*60)"
   ]
  },
  {
   "cell_type": "code",
   "execution_count": 111,
   "metadata": {},
   "outputs": [
    {
     "name": "stdout",
     "output_type": "stream",
     "text": [
      "============================================================\n",
      "Baseline (guess all \"odd\")\n",
      "Total Samples:  32  Total Correct:  16 Accuracy: 50.0 %\n",
      "============================================================\n",
      "Naive Bayes Classifier\n",
      "Total Samples:  32  Total Correct:  22 Accuracy: 68.8 %\n",
      "============================================================\n"
     ]
    }
   ],
   "source": [
    "print (\"=\"*60)\n",
    "baseline_correct = sum([1 for x in training_data if x[1] == \"odd\"]) # if we guessed all odd\n",
    "print (\"Baseline (guess all \\\"odd\\\")\")\n",
    "print(\"Total Samples: \",len(training_data),\" Total Correct: \",baseline_correct, \"Accuracy: %.1f\"%\n",
    "     (float(baseline_correct/len(training_data))*100),\"%\")\n",
    "print (\"=\"*60)\n",
    "print (\"Naive Bayes Classifier\")\n",
    "print(\"Total Samples: \",len(training_data),\" Total Correct: \",correct, \"Accuracy: %.1f\"%\n",
    "     (float(correct/len(training_data))*100),\"%\")\n",
    "print (\"=\"*60)"
   ]
  },
  {
   "cell_type": "code",
   "execution_count": null,
   "metadata": {
    "collapsed": true
   },
   "outputs": [],
   "source": []
  }
 ],
 "metadata": {
  "kernelspec": {
   "display_name": "Python 3",
   "language": "python",
   "name": "python3"
  },
  "language_info": {
   "codemirror_mode": {
    "name": "ipython",
    "version": 3
   },
   "file_extension": ".py",
   "mimetype": "text/x-python",
   "name": "python",
   "nbconvert_exporter": "python",
   "pygments_lexer": "ipython3",
   "version": "3.6.1"
  }
 },
 "nbformat": 4,
 "nbformat_minor": 2
}
